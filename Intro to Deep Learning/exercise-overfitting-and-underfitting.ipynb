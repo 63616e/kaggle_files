{
 "cells": [
  {
   "cell_type": "markdown",
   "id": "bc94c560",
   "metadata": {
    "papermill": {
     "duration": 0.005398,
     "end_time": "2022-12-18T05:33:15.891365",
     "exception": false,
     "start_time": "2022-12-18T05:33:15.885967",
     "status": "completed"
    },
    "tags": []
   },
   "source": [
    "**This notebook is an exercise in the [Intro to Deep Learning](https://www.kaggle.com/learn/intro-to-deep-learning) course.  You can reference the tutorial at [this link](https://www.kaggle.com/ryanholbrook/overfitting-and-underfitting).**\n",
    "\n",
    "---\n"
   ]
  },
  {
   "cell_type": "markdown",
   "id": "55a5952d",
   "metadata": {
    "papermill": {
     "duration": 0.004,
     "end_time": "2022-12-18T05:33:15.899828",
     "exception": false,
     "start_time": "2022-12-18T05:33:15.895828",
     "status": "completed"
    },
    "tags": []
   },
   "source": [
    "# Introduction #\n",
    "\n",
    "In this exercise, you’ll learn how to improve training outcomes by including an early stopping callback to prevent overfitting.\n",
    "\n",
    "When you're ready, run this next cell to set everything up!"
   ]
  },
  {
   "cell_type": "code",
   "execution_count": 1,
   "id": "18931e21",
   "metadata": {
    "execution": {
     "iopub.execute_input": "2022-12-18T05:33:15.910317Z",
     "iopub.status.busy": "2022-12-18T05:33:15.909590Z",
     "iopub.status.idle": "2022-12-18T05:33:15.940961Z",
     "shell.execute_reply": "2022-12-18T05:33:15.940119Z"
    },
    "papermill": {
     "duration": 0.038869,
     "end_time": "2022-12-18T05:33:15.942972",
     "exception": false,
     "start_time": "2022-12-18T05:33:15.904103",
     "status": "completed"
    },
    "tags": []
   },
   "outputs": [],
   "source": [
    "# Setup plotting\n",
    "import matplotlib.pyplot as plt\n",
    "plt.style.use('seaborn-whitegrid')\n",
    "# Set Matplotlib defaults\n",
    "plt.rc('figure', autolayout=True)\n",
    "plt.rc('axes', labelweight='bold', labelsize='large',\n",
    "       titleweight='bold', titlesize=18, titlepad=10)\n",
    "plt.rc('animation', html='html5')\n",
    "\n",
    "# Setup feedback system\n",
    "from learntools.core import binder\n",
    "binder.bind(globals())\n",
    "from learntools.deep_learning_intro.ex4 import *"
   ]
  },
  {
   "cell_type": "markdown",
   "id": "c55c15ac",
   "metadata": {
    "papermill": {
     "duration": 0.004001,
     "end_time": "2022-12-18T05:33:15.951176",
     "exception": false,
     "start_time": "2022-12-18T05:33:15.947175",
     "status": "completed"
    },
    "tags": []
   },
   "source": [
    "First load the *Spotify* dataset. Your task will be to predict the popularity of a song based on various audio features, like `'tempo'`, `'danceability'`, and `'mode'`."
   ]
  },
  {
   "cell_type": "code",
   "execution_count": 2,
   "id": "549b5aef",
   "metadata": {
    "execution": {
     "iopub.execute_input": "2022-12-18T05:33:15.963980Z",
     "iopub.status.busy": "2022-12-18T05:33:15.963185Z",
     "iopub.status.idle": "2022-12-18T05:33:22.277108Z",
     "shell.execute_reply": "2022-12-18T05:33:22.276069Z"
    },
    "papermill": {
     "duration": 6.321959,
     "end_time": "2022-12-18T05:33:22.280126",
     "exception": false,
     "start_time": "2022-12-18T05:33:15.958167",
     "status": "completed"
    },
    "tags": []
   },
   "outputs": [
    {
     "name": "stdout",
     "output_type": "stream",
     "text": [
      "Input shape: [18]\n"
     ]
    }
   ],
   "source": [
    "import pandas as pd\n",
    "from sklearn.preprocessing import StandardScaler, OneHotEncoder\n",
    "from sklearn.compose import make_column_transformer\n",
    "from sklearn.model_selection import GroupShuffleSplit\n",
    "\n",
    "from tensorflow import keras\n",
    "from tensorflow.keras import layers\n",
    "from tensorflow.keras import callbacks\n",
    "\n",
    "spotify = pd.read_csv('../input/dl-course-data/spotify.csv')\n",
    "\n",
    "X = spotify.copy().dropna()\n",
    "y = X.pop('track_popularity')\n",
    "artists = X['track_artist']\n",
    "\n",
    "features_num = ['danceability', 'energy', 'key', 'loudness', 'mode',\n",
    "                'speechiness', 'acousticness', 'instrumentalness',\n",
    "                'liveness', 'valence', 'tempo', 'duration_ms']\n",
    "features_cat = ['playlist_genre']\n",
    "\n",
    "preprocessor = make_column_transformer(\n",
    "    (StandardScaler(), features_num),\n",
    "    (OneHotEncoder(), features_cat),\n",
    ")\n",
    "\n",
    "# We'll do a \"grouped\" split to keep all of an artist's songs in one\n",
    "# split or the other. This is to help prevent signal leakage.\n",
    "def group_split(X, y, group, train_size=0.75):\n",
    "    splitter = GroupShuffleSplit(train_size=train_size)\n",
    "    train, test = next(splitter.split(X, y, groups=group))\n",
    "    return (X.iloc[train], X.iloc[test], y.iloc[train], y.iloc[test])\n",
    "\n",
    "X_train, X_valid, y_train, y_valid = group_split(X, y, artists)\n",
    "\n",
    "X_train = preprocessor.fit_transform(X_train)\n",
    "X_valid = preprocessor.transform(X_valid)\n",
    "y_train = y_train / 100 # popularity is on a scale 0-100, so this rescales to 0-1.\n",
    "y_valid = y_valid / 100\n",
    "\n",
    "input_shape = [X_train.shape[1]]\n",
    "print(\"Input shape: {}\".format(input_shape))"
   ]
  },
  {
   "cell_type": "markdown",
   "id": "6157782b",
   "metadata": {
    "papermill": {
     "duration": 0.004258,
     "end_time": "2022-12-18T05:33:22.289884",
     "exception": false,
     "start_time": "2022-12-18T05:33:22.285626",
     "status": "completed"
    },
    "tags": []
   },
   "source": [
    "Let's start with the simplest network, a linear model. This model has low capacity.\n",
    "\n",
    "Run this next cell without any changes to train a linear model on the *Spotify* dataset."
   ]
  },
  {
   "cell_type": "code",
   "execution_count": 3,
   "id": "dc5bfb02",
   "metadata": {
    "execution": {
     "iopub.execute_input": "2022-12-18T05:33:22.300406Z",
     "iopub.status.busy": "2022-12-18T05:33:22.299735Z",
     "iopub.status.idle": "2022-12-18T05:33:31.830507Z",
     "shell.execute_reply": "2022-12-18T05:33:31.828654Z"
    },
    "lines_to_next_cell": 0,
    "papermill": {
     "duration": 9.53838,
     "end_time": "2022-12-18T05:33:31.832649",
     "exception": false,
     "start_time": "2022-12-18T05:33:22.294269",
     "status": "completed"
    },
    "tags": []
   },
   "outputs": [
    {
     "name": "stderr",
     "output_type": "stream",
     "text": [
      "2022-12-18 05:33:22.399276: I tensorflow/stream_executor/cuda/cuda_gpu_executor.cc:937] successful NUMA node read from SysFS had negative value (-1), but there must be at least one NUMA node, so returning NUMA node zero\n",
      "2022-12-18 05:33:22.491172: I tensorflow/stream_executor/cuda/cuda_gpu_executor.cc:937] successful NUMA node read from SysFS had negative value (-1), but there must be at least one NUMA node, so returning NUMA node zero\n",
      "2022-12-18 05:33:22.491936: I tensorflow/stream_executor/cuda/cuda_gpu_executor.cc:937] successful NUMA node read from SysFS had negative value (-1), but there must be at least one NUMA node, so returning NUMA node zero\n",
      "2022-12-18 05:33:22.493456: I tensorflow/core/platform/cpu_feature_guard.cc:142] This TensorFlow binary is optimized with oneAPI Deep Neural Network Library (oneDNN) to use the following CPU instructions in performance-critical operations:  AVX2 AVX512F FMA\n",
      "To enable them in other operations, rebuild TensorFlow with the appropriate compiler flags.\n",
      "2022-12-18 05:33:22.493806: I tensorflow/stream_executor/cuda/cuda_gpu_executor.cc:937] successful NUMA node read from SysFS had negative value (-1), but there must be at least one NUMA node, so returning NUMA node zero\n",
      "2022-12-18 05:33:22.494750: I tensorflow/stream_executor/cuda/cuda_gpu_executor.cc:937] successful NUMA node read from SysFS had negative value (-1), but there must be at least one NUMA node, so returning NUMA node zero\n",
      "2022-12-18 05:33:22.495734: I tensorflow/stream_executor/cuda/cuda_gpu_executor.cc:937] successful NUMA node read from SysFS had negative value (-1), but there must be at least one NUMA node, so returning NUMA node zero\n",
      "2022-12-18 05:33:24.631735: I tensorflow/stream_executor/cuda/cuda_gpu_executor.cc:937] successful NUMA node read from SysFS had negative value (-1), but there must be at least one NUMA node, so returning NUMA node zero\n",
      "2022-12-18 05:33:24.632617: I tensorflow/stream_executor/cuda/cuda_gpu_executor.cc:937] successful NUMA node read from SysFS had negative value (-1), but there must be at least one NUMA node, so returning NUMA node zero\n",
      "2022-12-18 05:33:24.633299: I tensorflow/stream_executor/cuda/cuda_gpu_executor.cc:937] successful NUMA node read from SysFS had negative value (-1), but there must be at least one NUMA node, so returning NUMA node zero\n",
      "2022-12-18 05:33:24.633887: I tensorflow/core/common_runtime/gpu/gpu_device.cc:1510] Created device /job:localhost/replica:0/task:0/device:GPU:0 with 15401 MB memory:  -> device: 0, name: Tesla P100-PCIE-16GB, pci bus id: 0000:00:04.0, compute capability: 6.0\n",
      "2022-12-18 05:33:25.096847: I tensorflow/compiler/mlir/mlir_graph_optimization_pass.cc:185] None of the MLIR Optimization Passes are enabled (registered 2)\n"
     ]
    },
    {
     "name": "stdout",
     "output_type": "stream",
     "text": [
      "Minimum Validation Loss: 0.2001\n"
     ]
    },
    {
     "data": {
      "image/png": "[encoded data removed]",
      "text/plain": [
       "<Figure size 432x288 with 1 Axes>"
      ]
     },
     "metadata": {},
     "output_type": "display_data"
    }
   ],
   "source": [
    "model = keras.Sequential([\n",
    "    layers.Dense(1, input_shape=input_shape),\n",
    "])\n",
    "model.compile(\n",
    "    optimizer='adam',\n",
    "    loss='mae',\n",
    ")\n",
    "history = model.fit(\n",
    "    X_train, y_train,\n",
    "    validation_data=(X_valid, y_valid),\n",
    "    batch_size=512,\n",
    "    epochs=50,\n",
    "    verbose=0, # suppress output since we'll plot the curves\n",
    ")\n",
    "history_df = pd.DataFrame(history.history)\n",
    "history_df.loc[0:, ['loss', 'val_loss']].plot()\n",
    "print(\"Minimum Validation Loss: {:0.4f}\".format(history_df['val_loss'].min()));"
   ]
  },
  {
   "cell_type": "markdown",
   "id": "c98f319b",
   "metadata": {
    "papermill": {
     "duration": 0.004647,
     "end_time": "2022-12-18T05:33:31.842411",
     "exception": false,
     "start_time": "2022-12-18T05:33:31.837764",
     "status": "completed"
    },
    "tags": []
   },
   "source": [
    "It's not uncommon for the curves to follow a \"hockey stick\" pattern like you see here. This makes the final part of training hard to see, so let's start at epoch 10 instead:"
   ]
  },
  {
   "cell_type": "code",
   "execution_count": 4,
   "id": "fd400312",
   "metadata": {
    "execution": {
     "iopub.execute_input": "2022-12-18T05:33:31.854452Z",
     "iopub.status.busy": "2022-12-18T05:33:31.853017Z",
     "iopub.status.idle": "2022-12-18T05:33:32.195183Z",
     "shell.execute_reply": "2022-12-18T05:33:32.194263Z"
    },
    "papermill": {
     "duration": 0.350375,
     "end_time": "2022-12-18T05:33:32.197566",
     "exception": false,
     "start_time": "2022-12-18T05:33:31.847191",
     "status": "completed"
    },
    "tags": []
   },
   "outputs": [
    {
     "name": "stdout",
     "output_type": "stream",
     "text": [
      "Minimum Validation Loss: 0.2001\n"
     ]
    },
    {
     "data": {
      "image/png": "[encoded data removed]",
      "text/plain": [
       "<Figure size 432x288 with 1 Axes>"
      ]
     },
     "metadata": {},
     "output_type": "display_data"
    }
   ],
   "source": [
    "# Start the plot at epoch 10\n",
    "history_df.loc[10:, ['loss', 'val_loss']].plot()\n",
    "print(\"Minimum Validation Loss: {:0.4f}\".format(history_df['val_loss'].min()));"
   ]
  },
  {
   "cell_type": "markdown",
   "id": "e93c91aa",
   "metadata": {
    "papermill": {
     "duration": 0.00745,
     "end_time": "2022-12-18T05:33:32.212616",
     "exception": false,
     "start_time": "2022-12-18T05:33:32.205166",
     "status": "completed"
    },
    "tags": []
   },
   "source": [
    "# 1) Evaluate Baseline\n",
    "\n",
    "What do you think? Would you say this model is underfitting, overfitting, just right?"
   ]
  },
  {
   "cell_type": "code",
   "execution_count": 5,
   "id": "90e0e9a3",
   "metadata": {
    "execution": {
     "iopub.execute_input": "2022-12-18T05:33:32.229367Z",
     "iopub.status.busy": "2022-12-18T05:33:32.228883Z",
     "iopub.status.idle": "2022-12-18T05:33:32.238107Z",
     "shell.execute_reply": "2022-12-18T05:33:32.237262Z"
    },
    "papermill": {
     "duration": 0.023194,
     "end_time": "2022-12-18T05:33:32.243511",
     "exception": false,
     "start_time": "2022-12-18T05:33:32.220317",
     "status": "completed"
    },
    "tags": []
   },
   "outputs": [
    {
     "data": {
      "application/javascript": [
       "parent.postMessage({\"jupyterEvent\": \"custom.exercise_interaction\", \"data\": {\"outcomeType\": 1, \"valueTowardsCompletion\": 0.25, \"interactionType\": 1, \"questionType\": 4, \"questionId\": \"1_Q1\", \"learnToolsVersion\": \"0.3.4\", \"failureMessage\": \"\", \"exceptionClass\": \"\", \"trace\": \"\"}}, \"*\")"
      ],
      "text/plain": [
       "<IPython.core.display.Javascript object>"
      ]
     },
     "metadata": {},
     "output_type": "display_data"
    },
    {
     "data": {
      "text/markdown": [
       "<span style=\"color:#33cc33\">Correct:</span> \n",
       "\n",
       "The gap between these curves is quite small and the validation loss never increases, so it's more likely that the network is underfitting than overfitting. It would be worth experimenting with more capacity to see if that's the case."
      ],
      "text/plain": [
       "Correct: \n",
       "\n",
       "The gap between these curves is quite small and the validation loss never increases, so it's more likely that the network is underfitting than overfitting. It would be worth experimenting with more capacity to see if that's the case."
      ]
     },
     "metadata": {},
     "output_type": "display_data"
    }
   ],
   "source": [
    "# View the solution (Run this cell to receive credit!)\n",
    "q_1.check()"
   ]
  },
  {
   "cell_type": "markdown",
   "id": "0396c521",
   "metadata": {
    "papermill": {
     "duration": 0.007418,
     "end_time": "2022-12-18T05:33:32.259803",
     "exception": false,
     "start_time": "2022-12-18T05:33:32.252385",
     "status": "completed"
    },
    "tags": []
   },
   "source": [
    "Now let's add some capacity to our network. We'll add three hidden layers with 128 units each. Run the next cell to train the network and see the learning curves."
   ]
  },
  {
   "cell_type": "code",
   "execution_count": 6,
   "id": "1a361907",
   "metadata": {
    "execution": {
     "iopub.execute_input": "2022-12-18T05:33:32.276223Z",
     "iopub.status.busy": "2022-12-18T05:33:32.275879Z",
     "iopub.status.idle": "2022-12-18T05:33:39.581078Z",
     "shell.execute_reply": "2022-12-18T05:33:39.580170Z"
    },
    "papermill": {
     "duration": 7.315844,
     "end_time": "2022-12-18T05:33:39.583274",
     "exception": false,
     "start_time": "2022-12-18T05:33:32.267430",
     "status": "completed"
    },
    "tags": []
   },
   "outputs": [
    {
     "name": "stdout",
     "output_type": "stream",
     "text": [
      "Epoch 1/50\n",
      "48/48 [==============================] - 1s 7ms/step - loss: 0.2660 - val_loss: 0.2139\n",
      "Epoch 2/50\n",
      "48/48 [==============================] - 0s 5ms/step - loss: 0.2014 - val_loss: 0.2085\n",
      "Epoch 3/50\n",
      "48/48 [==============================] - 0s 3ms/step - loss: 0.1961 - val_loss: 0.2057\n",
      "Epoch 4/50\n",
      "48/48 [==============================] - 0s 2ms/step - loss: 0.1929 - val_loss: 0.2044\n",
      "Epoch 5/50\n",
      "48/48 [==============================] - 0s 3ms/step - loss: 0.1905 - val_loss: 0.2039\n",
      "Epoch 6/50\n",
      "48/48 [==============================] - 0s 3ms/step - loss: 0.1891 - val_loss: 0.2030\n",
      "Epoch 7/50\n",
      "48/48 [==============================] - 0s 3ms/step - loss: 0.1873 - val_loss: 0.2029\n",
      "Epoch 8/50\n",
      "48/48 [==============================] - 0s 3ms/step - loss: 0.1866 - val_loss: 0.2040\n",
      "Epoch 9/50\n",
      "48/48 [==============================] - 0s 2ms/step - loss: 0.1854 - val_loss: 0.2025\n",
      "Epoch 10/50\n",
      "48/48 [==============================] - 0s 3ms/step - loss: 0.1844 - val_loss: 0.2032\n",
      "Epoch 11/50\n",
      "48/48 [==============================] - 0s 3ms/step - loss: 0.1839 - val_loss: 0.2023\n",
      "Epoch 12/50\n",
      "48/48 [==============================] - 0s 3ms/step - loss: 0.1830 - val_loss: 0.2025\n",
      "Epoch 13/50\n",
      "48/48 [==============================] - 0s 3ms/step - loss: 0.1817 - val_loss: 0.2046\n",
      "Epoch 14/50\n",
      "48/48 [==============================] - 0s 3ms/step - loss: 0.1813 - val_loss: 0.2046\n",
      "Epoch 15/50\n",
      "48/48 [==============================] - 0s 3ms/step - loss: 0.1810 - val_loss: 0.2046\n",
      "Epoch 16/50\n",
      "48/48 [==============================] - 0s 3ms/step - loss: 0.1802 - val_loss: 0.2030\n",
      "Epoch 17/50\n",
      "48/48 [==============================] - 0s 2ms/step - loss: 0.1797 - val_loss: 0.2019\n",
      "Epoch 18/50\n",
      "48/48 [==============================] - 0s 2ms/step - loss: 0.1783 - val_loss: 0.2014\n",
      "Epoch 19/50\n",
      "48/48 [==============================] - 0s 2ms/step - loss: 0.1777 - val_loss: 0.2030\n",
      "Epoch 20/50\n",
      "48/48 [==============================] - 0s 3ms/step - loss: 0.1773 - val_loss: 0.2028\n",
      "Epoch 21/50\n",
      "48/48 [==============================] - 0s 3ms/step - loss: 0.1770 - val_loss: 0.2024\n",
      "Epoch 22/50\n",
      "48/48 [==============================] - 0s 3ms/step - loss: 0.1760 - val_loss: 0.2023\n",
      "Epoch 23/50\n",
      "48/48 [==============================] - 0s 3ms/step - loss: 0.1758 - val_loss: 0.2044\n",
      "Epoch 24/50\n",
      "48/48 [==============================] - 0s 3ms/step - loss: 0.1754 - val_loss: 0.2029\n",
      "Epoch 25/50\n",
      "48/48 [==============================] - 0s 3ms/step - loss: 0.1750 - val_loss: 0.2040\n",
      "Epoch 26/50\n",
      "48/48 [==============================] - 0s 2ms/step - loss: 0.1741 - val_loss: 0.2035\n",
      "Epoch 27/50\n",
      "48/48 [==============================] - 0s 3ms/step - loss: 0.1739 - val_loss: 0.2033\n",
      "Epoch 28/50\n",
      "48/48 [==============================] - 0s 2ms/step - loss: 0.1741 - val_loss: 0.2035\n",
      "Epoch 29/50\n",
      "48/48 [==============================] - 0s 2ms/step - loss: 0.1731 - val_loss: 0.2047\n",
      "Epoch 30/50\n",
      "48/48 [==============================] - 0s 3ms/step - loss: 0.1733 - val_loss: 0.2050\n",
      "Epoch 31/50\n",
      "48/48 [==============================] - 0s 3ms/step - loss: 0.1720 - val_loss: 0.2049\n",
      "Epoch 32/50\n",
      "48/48 [==============================] - 0s 3ms/step - loss: 0.1715 - val_loss: 0.2053\n",
      "Epoch 33/50\n",
      "48/48 [==============================] - 0s 3ms/step - loss: 0.1706 - val_loss: 0.2045\n",
      "Epoch 34/50\n",
      "48/48 [==============================] - 0s 3ms/step - loss: 0.1708 - val_loss: 0.2055\n",
      "Epoch 35/50\n",
      "48/48 [==============================] - 0s 3ms/step - loss: 0.1696 - val_loss: 0.2054\n",
      "Epoch 36/50\n",
      "48/48 [==============================] - 0s 2ms/step - loss: 0.1699 - val_loss: 0.2049\n",
      "Epoch 37/50\n",
      "48/48 [==============================] - 0s 2ms/step - loss: 0.1691 - val_loss: 0.2058\n",
      "Epoch 38/50\n",
      "48/48 [==============================] - 0s 2ms/step - loss: 0.1685 - val_loss: 0.2060\n",
      "Epoch 39/50\n",
      "48/48 [==============================] - 0s 3ms/step - loss: 0.1681 - val_loss: 0.2059\n",
      "Epoch 40/50\n",
      "48/48 [==============================] - 0s 3ms/step - loss: 0.1679 - val_loss: 0.2067\n",
      "Epoch 41/50\n",
      "48/48 [==============================] - 0s 2ms/step - loss: 0.1686 - val_loss: 0.2073\n",
      "Epoch 42/50\n",
      "48/48 [==============================] - 0s 2ms/step - loss: 0.1673 - val_loss: 0.2066\n",
      "Epoch 43/50\n",
      "48/48 [==============================] - 0s 3ms/step - loss: 0.1669 - val_loss: 0.2072\n",
      "Epoch 44/50\n",
      "48/48 [==============================] - 0s 2ms/step - loss: 0.1666 - val_loss: 0.2086\n",
      "Epoch 45/50\n",
      "48/48 [==============================] - 0s 2ms/step - loss: 0.1658 - val_loss: 0.2074\n",
      "Epoch 46/50\n",
      "48/48 [==============================] - 0s 3ms/step - loss: 0.1657 - val_loss: 0.2083\n",
      "Epoch 47/50\n",
      "48/48 [==============================] - 0s 3ms/step - loss: 0.1649 - val_loss: 0.2067\n",
      "Epoch 48/50\n",
      "48/48 [==============================] - 0s 3ms/step - loss: 0.1651 - val_loss: 0.2077\n",
      "Epoch 49/50\n",
      "48/48 [==============================] - 0s 3ms/step - loss: 0.1650 - val_loss: 0.2082\n",
      "Epoch 50/50\n",
      "48/48 [==============================] - 0s 2ms/step - loss: 0.1639 - val_loss: 0.2087\n",
      "Minimum Validation Loss: 0.2014\n"
     ]
    },
    {
     "data": {
      "image/png": "[encoded data removed]",
      "text/plain": [
       "<Figure size 432x288 with 1 Axes>"
      ]
     },
     "metadata": {},
     "output_type": "display_data"
    }
   ],
   "source": [
    "model = keras.Sequential([\n",
    "    layers.Dense(128, activation='relu', input_shape=input_shape),\n",
    "    layers.Dense(64, activation='relu'),\n",
    "    layers.Dense(1)\n",
    "])\n",
    "model.compile(\n",
    "    optimizer='adam',\n",
    "    loss='mae',\n",
    ")\n",
    "history = model.fit(\n",
    "    X_train, y_train,\n",
    "    validation_data=(X_valid, y_valid),\n",
    "    batch_size=512,\n",
    "    epochs=50,\n",
    ")\n",
    "history_df = pd.DataFrame(history.history)\n",
    "history_df.loc[:, ['loss', 'val_loss']].plot()\n",
    "print(\"Minimum Validation Loss: {:0.4f}\".format(history_df['val_loss'].min()));"
   ]
  },
  {
   "cell_type": "markdown",
   "id": "c763ec35",
   "metadata": {
    "papermill": {
     "duration": 0.013131,
     "end_time": "2022-12-18T05:33:39.610419",
     "exception": false,
     "start_time": "2022-12-18T05:33:39.597288",
     "status": "completed"
    },
    "tags": []
   },
   "source": [
    "# 2) Add Capacity\n",
    "\n",
    "What is your evaluation of these curves? Underfitting, overfitting, just right?"
   ]
  },
  {
   "cell_type": "code",
   "execution_count": 7,
   "id": "f7acc979",
   "metadata": {
    "execution": {
     "iopub.execute_input": "2022-12-18T05:33:39.638477Z",
     "iopub.status.busy": "2022-12-18T05:33:39.638155Z",
     "iopub.status.idle": "2022-12-18T05:33:39.645851Z",
     "shell.execute_reply": "2022-12-18T05:33:39.644883Z"
    },
    "papermill": {
     "duration": 0.024139,
     "end_time": "2022-12-18T05:33:39.647862",
     "exception": false,
     "start_time": "2022-12-18T05:33:39.623723",
     "status": "completed"
    },
    "tags": []
   },
   "outputs": [
    {
     "data": {
      "application/javascript": [
       "parent.postMessage({\"jupyterEvent\": \"custom.exercise_interaction\", \"data\": {\"outcomeType\": 1, \"valueTowardsCompletion\": 0.25, \"interactionType\": 1, \"questionType\": 4, \"questionId\": \"2_Q2\", \"learnToolsVersion\": \"0.3.4\", \"failureMessage\": \"\", \"exceptionClass\": \"\", \"trace\": \"\"}}, \"*\")"
      ],
      "text/plain": [
       "<IPython.core.display.Javascript object>"
      ]
     },
     "metadata": {},
     "output_type": "display_data"
    },
    {
     "data": {
      "text/markdown": [
       "<span style=\"color:#33cc33\">Correct:</span> \n",
       "\n",
       "Now the validation loss begins to rise very early, while the training loss continues to decrease. This indicates that the network has begun to overfit. At this point, we would need to try something to prevent it, either by reducing the number of units or through a method like early stopping. (We'll see another in the next lesson!)"
      ],
      "text/plain": [
       "Correct: \n",
       "\n",
       "Now the validation loss begins to rise very early, while the training loss continues to decrease. This indicates that the network has begun to overfit. At this point, we would need to try something to prevent it, either by reducing the number of units or through a method like early stopping. (We'll see another in the next lesson!)"
      ]
     },
     "metadata": {},
     "output_type": "display_data"
    }
   ],
   "source": [
    "# View the solution (Run this cell to receive credit!)\n",
    "q_2.check()"
   ]
  },
  {
   "cell_type": "markdown",
   "id": "36199980",
   "metadata": {
    "papermill": {
     "duration": 0.01332,
     "end_time": "2022-12-18T05:33:39.674622",
     "exception": false,
     "start_time": "2022-12-18T05:33:39.661302",
     "status": "completed"
    },
    "tags": []
   },
   "source": [
    "# 3) Define Early Stopping Callback\n",
    "\n",
    "Now define an early stopping callback that waits 5 epochs (`patience'`) for a change in validation loss of at least `0.001` (`min_delta`) and keeps the weights with the best loss (`restore_best_weights`)."
   ]
  },
  {
   "cell_type": "code",
   "execution_count": 8,
   "id": "9f0dc845",
   "metadata": {
    "execution": {
     "iopub.execute_input": "2022-12-18T05:33:39.703262Z",
     "iopub.status.busy": "2022-12-18T05:33:39.702977Z",
     "iopub.status.idle": "2022-12-18T05:33:39.710927Z",
     "shell.execute_reply": "2022-12-18T05:33:39.709982Z"
    },
    "lines_to_next_cell": 0,
    "papermill": {
     "duration": 0.024853,
     "end_time": "2022-12-18T05:33:39.712958",
     "exception": false,
     "start_time": "2022-12-18T05:33:39.688105",
     "status": "completed"
    },
    "tags": []
   },
   "outputs": [
    {
     "data": {
      "application/javascript": [
       "parent.postMessage({\"jupyterEvent\": \"custom.exercise_interaction\", \"data\": {\"outcomeType\": 1, \"valueTowardsCompletion\": 0.25, \"interactionType\": 1, \"questionType\": 2, \"questionId\": \"3_Q3\", \"learnToolsVersion\": \"0.3.4\", \"failureMessage\": \"\", \"exceptionClass\": \"\", \"trace\": \"\"}}, \"*\")"
      ],
      "text/plain": [
       "<IPython.core.display.Javascript object>"
      ]
     },
     "metadata": {},
     "output_type": "display_data"
    },
    {
     "data": {
      "text/markdown": [
       "<span style=\"color:#33cc33\">Correct</span>"
      ],
      "text/plain": [
       "Correct"
      ]
     },
     "metadata": {},
     "output_type": "display_data"
    }
   ],
   "source": [
    "from tensorflow.keras import callbacks\n",
    "\n",
    "# YOUR CODE HERE: define an early stopping callback\n",
    "early_stopping = callbacks.EarlyStopping(min_delta=0.001,patience=5, restore_best_weights=True )\n",
    "\n",
    "# Check your answer\n",
    "q_3.check()"
   ]
  },
  {
   "cell_type": "code",
   "execution_count": 9,
   "id": "f2d6b1d8",
   "metadata": {
    "execution": {
     "iopub.execute_input": "2022-12-18T05:33:39.742403Z",
     "iopub.status.busy": "2022-12-18T05:33:39.741864Z",
     "iopub.status.idle": "2022-12-18T05:33:39.746004Z",
     "shell.execute_reply": "2022-12-18T05:33:39.745185Z"
    },
    "papermill": {
     "duration": 0.020838,
     "end_time": "2022-12-18T05:33:39.747994",
     "exception": false,
     "start_time": "2022-12-18T05:33:39.727156",
     "status": "completed"
    },
    "tags": []
   },
   "outputs": [],
   "source": [
    "# Lines below will give you a hint or solution code\n",
    "#q_3.hint()\n",
    "#q_3.solution()"
   ]
  },
  {
   "cell_type": "markdown",
   "id": "37df02a3",
   "metadata": {
    "papermill": {
     "duration": 0.0137,
     "end_time": "2022-12-18T05:33:39.775428",
     "exception": false,
     "start_time": "2022-12-18T05:33:39.761728",
     "status": "completed"
    },
    "tags": []
   },
   "source": [
    "Now run this cell to train the model and get the learning curves. Notice the `callbacks` argument in `model.fit`."
   ]
  },
  {
   "cell_type": "code",
   "execution_count": 10,
   "id": "ac2fe652",
   "metadata": {
    "execution": {
     "iopub.execute_input": "2022-12-18T05:33:39.804075Z",
     "iopub.status.busy": "2022-12-18T05:33:39.803814Z",
     "iopub.status.idle": "2022-12-18T05:33:42.994755Z",
     "shell.execute_reply": "2022-12-18T05:33:42.993820Z"
    },
    "papermill": {
     "duration": 3.207515,
     "end_time": "2022-12-18T05:33:42.996821",
     "exception": false,
     "start_time": "2022-12-18T05:33:39.789306",
     "status": "completed"
    },
    "tags": []
   },
   "outputs": [
    {
     "name": "stdout",
     "output_type": "stream",
     "text": [
      "Epoch 1/50\n",
      "48/48 [==============================] - 1s 7ms/step - loss: 0.2207 - val_loss: 0.2100\n",
      "Epoch 2/50\n",
      "48/48 [==============================] - 0s 4ms/step - loss: 0.1979 - val_loss: 0.2051\n",
      "Epoch 3/50\n",
      "48/48 [==============================] - 0s 3ms/step - loss: 0.1935 - val_loss: 0.2065\n",
      "Epoch 4/50\n",
      "48/48 [==============================] - 0s 3ms/step - loss: 0.1906 - val_loss: 0.2040\n",
      "Epoch 5/50\n",
      "48/48 [==============================] - 0s 3ms/step - loss: 0.1890 - val_loss: 0.2026\n",
      "Epoch 6/50\n",
      "48/48 [==============================] - 0s 3ms/step - loss: 0.1871 - val_loss: 0.2044\n",
      "Epoch 7/50\n",
      "48/48 [==============================] - 0s 2ms/step - loss: 0.1862 - val_loss: 0.2028\n",
      "Epoch 8/50\n",
      "48/48 [==============================] - 0s 3ms/step - loss: 0.1853 - val_loss: 0.2039\n",
      "Epoch 9/50\n",
      "48/48 [==============================] - 0s 3ms/step - loss: 0.1843 - val_loss: 0.2029\n",
      "Epoch 10/50\n",
      "48/48 [==============================] - 0s 3ms/step - loss: 0.1833 - val_loss: 0.2027\n",
      "Minimum Validation Loss: 0.2026\n"
     ]
    },
    {
     "data": {
      "image/png": "[encoded data removed]",
      "text/plain": [
       "<Figure size 432x288 with 1 Axes>"
      ]
     },
     "metadata": {},
     "output_type": "display_data"
    }
   ],
   "source": [
    "model = keras.Sequential([\n",
    "    layers.Dense(128, activation='relu', input_shape=input_shape),\n",
    "    layers.Dense(64, activation='relu'),    \n",
    "    layers.Dense(1)\n",
    "])\n",
    "model.compile(\n",
    "    optimizer='adam',\n",
    "    loss='mae',\n",
    ")\n",
    "history = model.fit(\n",
    "    X_train, y_train,\n",
    "    validation_data=(X_valid, y_valid),\n",
    "    batch_size=512,\n",
    "    epochs=50,\n",
    "    callbacks=[early_stopping]\n",
    ")\n",
    "history_df = pd.DataFrame(history.history)\n",
    "history_df.loc[:, ['loss', 'val_loss']].plot()\n",
    "print(\"Minimum Validation Loss: {:0.4f}\".format(history_df['val_loss'].min()));"
   ]
  },
  {
   "cell_type": "markdown",
   "id": "eee494a4",
   "metadata": {
    "papermill": {
     "duration": 0.015765,
     "end_time": "2022-12-18T05:33:43.029034",
     "exception": false,
     "start_time": "2022-12-18T05:33:43.013269",
     "status": "completed"
    },
    "tags": []
   },
   "source": [
    "# 4) Train and Interpret\n",
    "\n",
    "Was this an improvement compared to training without early stopping?"
   ]
  },
  {
   "cell_type": "code",
   "execution_count": 11,
   "id": "9d1619da",
   "metadata": {
    "execution": {
     "iopub.execute_input": "2022-12-18T05:33:43.062335Z",
     "iopub.status.busy": "2022-12-18T05:33:43.062019Z",
     "iopub.status.idle": "2022-12-18T05:33:43.069975Z",
     "shell.execute_reply": "2022-12-18T05:33:43.069038Z"
    },
    "papermill": {
     "duration": 0.027005,
     "end_time": "2022-12-18T05:33:43.072053",
     "exception": false,
     "start_time": "2022-12-18T05:33:43.045048",
     "status": "completed"
    },
    "tags": []
   },
   "outputs": [
    {
     "data": {
      "application/javascript": [
       "parent.postMessage({\"jupyterEvent\": \"custom.exercise_interaction\", \"data\": {\"outcomeType\": 1, \"valueTowardsCompletion\": 0.25, \"interactionType\": 1, \"questionType\": 4, \"questionId\": \"4_Q4\", \"learnToolsVersion\": \"0.3.4\", \"failureMessage\": \"\", \"exceptionClass\": \"\", \"trace\": \"\"}}, \"*\")"
      ],
      "text/plain": [
       "<IPython.core.display.Javascript object>"
      ]
     },
     "metadata": {},
     "output_type": "display_data"
    },
    {
     "data": {
      "text/markdown": [
       "<span style=\"color:#33cc33\">Correct:</span> \n",
       "\n",
       "The early stopping callback did stop the training once the network began overfitting. Moreover, by including `restore_best_weights` we still get to keep the model where validation loss was lowest."
      ],
      "text/plain": [
       "Correct: \n",
       "\n",
       "The early stopping callback did stop the training once the network began overfitting. Moreover, by including `restore_best_weights` we still get to keep the model where validation loss was lowest."
      ]
     },
     "metadata": {},
     "output_type": "display_data"
    }
   ],
   "source": [
    "# View the solution (Run this cell to receive credit!)\n",
    "q_4.check()"
   ]
  },
  {
   "cell_type": "markdown",
   "id": "e72503c7",
   "metadata": {
    "papermill": {
     "duration": 0.015926,
     "end_time": "2022-12-18T05:33:43.103952",
     "exception": false,
     "start_time": "2022-12-18T05:33:43.088026",
     "status": "completed"
    },
    "tags": []
   },
   "source": [
    "If you like, try experimenting with `patience` and `min_delta` to see what difference it might make.\n",
    "\n",
    "# Keep Going #\n",
    "\n",
    "Move on to [**learn about a couple of special layers**](https://www.kaggle.com/ryanholbrook/dropout-and-batch-normalization): batch normalization and dropout."
   ]
  },
  {
   "cell_type": "markdown",
   "id": "adaaa1df",
   "metadata": {
    "papermill": {
     "duration": 0.015837,
     "end_time": "2022-12-18T05:33:43.135692",
     "exception": false,
     "start_time": "2022-12-18T05:33:43.119855",
     "status": "completed"
    },
    "tags": []
   },
   "source": [
    "---\n",
    "\n",
    "\n",
    "\n",
    "\n",
    "*Have questions or comments? Visit the [course discussion forum](https://www.kaggle.com/learn/intro-to-deep-learning/discussion) to chat with other learners.*"
   ]
  }
 ],
 "metadata": {
  "kernelspec": {
   "display_name": "Python 3",
   "language": "python",
   "name": "python3"
  },
  "language_info": {
   "codemirror_mode": {
    "name": "ipython",
    "version": 3
   },
   "file_extension": ".py",
   "mimetype": "text/x-python",
   "name": "python",
   "nbconvert_exporter": "python",
   "pygments_lexer": "ipython3",
   "version": "3.7.12"
  },
  "papermill": {
   "default_parameters": {},
   "duration": 38.288171,
   "end_time": "2022-12-18T05:33:46.704385",
   "environment_variables": {},
   "exception": null,
   "input_path": "__notebook__.ipynb",
   "output_path": "__notebook__.ipynb",
   "parameters": {},
   "start_time": "2022-12-18T05:33:08.416214",
   "version": "2.3.4"
  }
 },
 "nbformat": 4,
 "nbformat_minor": 5
}
