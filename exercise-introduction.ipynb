{
 "cells": [
  {
   "cell_type": "markdown",
   "id": "a5c5b8f1",
   "metadata": {
    "papermill": {
     "duration": 0.006158,
     "end_time": "2022-12-12T05:02:58.920843",
     "exception": false,
     "start_time": "2022-12-12T05:02:58.914685",
     "status": "completed"
    },
    "tags": []
   },
   "source": [
    "**This notebook is an exercise in the [Intermediate Machine Learning](https://www.kaggle.com/learn/intermediate-machine-learning) course.  You can reference the tutorial at [this link](https://www.kaggle.com/alexisbcook/introduction).**\n",
    "\n",
    "---\n"
   ]
  },
  {
   "cell_type": "markdown",
   "id": "41eb2a8a",
   "metadata": {
    "papermill": {
     "duration": 0.004541,
     "end_time": "2022-12-12T05:02:58.930342",
     "exception": false,
     "start_time": "2022-12-12T05:02:58.925801",
     "status": "completed"
    },
    "tags": []
   },
   "source": [
    "As a warm-up, you'll review some machine learning fundamentals and submit your initial results to a Kaggle competition.\n",
    "\n",
    "# Setup\n",
    "\n",
    "The questions below will give you feedback on your work. Run the following cell to set up the feedback system."
   ]
  },
  {
   "cell_type": "code",
   "execution_count": 1,
   "id": "f2b3aab5",
   "metadata": {
    "execution": {
     "iopub.execute_input": "2022-12-12T05:02:58.942943Z",
     "iopub.status.busy": "2022-12-12T05:02:58.942022Z",
     "iopub.status.idle": "2022-12-12T05:03:00.410674Z",
     "shell.execute_reply": "2022-12-12T05:03:00.409103Z"
    },
    "papermill": {
     "duration": 1.478508,
     "end_time": "2022-12-12T05:03:00.413706",
     "exception": false,
     "start_time": "2022-12-12T05:02:58.935198",
     "status": "completed"
    },
    "tags": []
   },
   "outputs": [
    {
     "name": "stdout",
     "output_type": "stream",
     "text": [
      "Setup Complete\n"
     ]
    }
   ],
   "source": [
    "# Set up code checking\n",
    "import os\n",
    "if not os.path.exists(\"../input/train.csv\"):\n",
    "    os.symlink(\"../input/home-data-for-ml-course/train.csv\", \"../input/train.csv\")  \n",
    "    os.symlink(\"../input/home-data-for-ml-course/test.csv\", \"../input/test.csv\")  \n",
    "from learntools.core import binder\n",
    "binder.bind(globals())\n",
    "from learntools.ml_intermediate.ex1 import *\n",
    "print(\"Setup Complete\")"
   ]
  },
  {
   "cell_type": "markdown",
   "id": "0a4bc11e",
   "metadata": {
    "papermill": {
     "duration": 0.005,
     "end_time": "2022-12-12T05:03:00.424121",
     "exception": false,
     "start_time": "2022-12-12T05:03:00.419121",
     "status": "completed"
    },
    "tags": []
   },
   "source": [
    "You will work with data from the [Housing Prices Competition for Kaggle Learn Users](https://www.kaggle.com/c/home-data-for-ml-course) to predict home prices in Iowa using 79 explanatory variables describing (almost) every aspect of the homes.  \n",
    "\n",
    "![Ames Housing dataset image](https://i.imgur.com/lTJVG4e.png)\n",
    "\n",
    "Run the next code cell without changes to load the training and validation features in `X_train` and `X_valid`, along with the prediction targets in `y_train` and `y_valid`.  The test features are loaded in `X_test`.  (_If you need to review **features** and **prediction targets**, please check out [this short tutorial](https://www.kaggle.com/dansbecker/your-first-machine-learning-model).  To read about model **validation**, look [here](https://www.kaggle.com/dansbecker/model-validation).  Alternatively, if you'd prefer to look through a full course to review all of these topics, start [here](https://www.kaggle.com/learn/machine-learning).)_"
   ]
  },
  {
   "cell_type": "code",
   "execution_count": 2,
   "id": "9948c884",
   "metadata": {
    "execution": {
     "iopub.execute_input": "2022-12-12T05:03:00.437812Z",
     "iopub.status.busy": "2022-12-12T05:03:00.436934Z",
     "iopub.status.idle": "2022-12-12T05:03:00.533822Z",
     "shell.execute_reply": "2022-12-12T05:03:00.532494Z"
    },
    "papermill": {
     "duration": 0.107325,
     "end_time": "2022-12-12T05:03:00.536723",
     "exception": false,
     "start_time": "2022-12-12T05:03:00.429398",
     "status": "completed"
    },
    "tags": []
   },
   "outputs": [],
   "source": [
    "import pandas as pd\n",
    "from sklearn.model_selection import train_test_split\n",
    "\n",
    "# Read the data\n",
    "X_full = pd.read_csv('../input/train.csv', index_col='Id')\n",
    "X_test_full = pd.read_csv('../input/test.csv', index_col='Id')\n",
    "\n",
    "# Obtain target and predictors\n",
    "y = X_full.SalePrice\n",
    "features = ['LotArea', 'YearBuilt', '1stFlrSF', '2ndFlrSF', 'FullBath', 'BedroomAbvGr', 'TotRmsAbvGrd']\n",
    "X = X_full[features].copy()\n",
    "X_test = X_test_full[features].copy()\n",
    "\n",
    "# Break off validation set from training data\n",
    "X_train, X_valid, y_train, y_valid = train_test_split(X, y, train_size=0.8, test_size=0.2,\n",
    "                                                      random_state=0)"
   ]
  },
  {
   "cell_type": "markdown",
   "id": "7dc94d0b",
   "metadata": {
    "papermill": {
     "duration": 0.004969,
     "end_time": "2022-12-12T05:03:00.547083",
     "exception": false,
     "start_time": "2022-12-12T05:03:00.542114",
     "status": "completed"
    },
    "tags": []
   },
   "source": [
    "Use the next cell to print the first several rows of the data. It's a nice way to get an overview of the data you will use in your price prediction model."
   ]
  },
  {
   "cell_type": "code",
   "execution_count": 3,
   "id": "c0069a2e",
   "metadata": {
    "execution": {
     "iopub.execute_input": "2022-12-12T05:03:00.559773Z",
     "iopub.status.busy": "2022-12-12T05:03:00.558949Z",
     "iopub.status.idle": "2022-12-12T05:03:00.582611Z",
     "shell.execute_reply": "2022-12-12T05:03:00.581317Z"
    },
    "papermill": {
     "duration": 0.033337,
     "end_time": "2022-12-12T05:03:00.585584",
     "exception": false,
     "start_time": "2022-12-12T05:03:00.552247",
     "status": "completed"
    },
    "tags": []
   },
   "outputs": [
    {
     "data": {
      "text/html": [
       "<div>\n",
       "<style scoped>\n",
       "    .dataframe tbody tr th:only-of-type {\n",
       "        vertical-align: middle;\n",
       "    }\n",
       "\n",
       "    .dataframe tbody tr th {\n",
       "        vertical-align: top;\n",
       "    }\n",
       "\n",
       "    .dataframe thead th {\n",
       "        text-align: right;\n",
       "    }\n",
       "</style>\n",
       "<table border=\"1\" class=\"dataframe\">\n",
       "  <thead>\n",
       "    <tr style=\"text-align: right;\">\n",
       "      <th></th>\n",
       "      <th>LotArea</th>\n",
       "      <th>YearBuilt</th>\n",
       "      <th>1stFlrSF</th>\n",
       "      <th>2ndFlrSF</th>\n",
       "      <th>FullBath</th>\n",
       "      <th>BedroomAbvGr</th>\n",
       "      <th>TotRmsAbvGrd</th>\n",
       "    </tr>\n",
       "    <tr>\n",
       "      <th>Id</th>\n",
       "      <th></th>\n",
       "      <th></th>\n",
       "      <th></th>\n",
       "      <th></th>\n",
       "      <th></th>\n",
       "      <th></th>\n",
       "      <th></th>\n",
       "    </tr>\n",
       "  </thead>\n",
       "  <tbody>\n",
       "    <tr>\n",
       "      <th>619</th>\n",
       "      <td>11694</td>\n",
       "      <td>2007</td>\n",
       "      <td>1828</td>\n",
       "      <td>0</td>\n",
       "      <td>2</td>\n",
       "      <td>3</td>\n",
       "      <td>9</td>\n",
       "    </tr>\n",
       "    <tr>\n",
       "      <th>871</th>\n",
       "      <td>6600</td>\n",
       "      <td>1962</td>\n",
       "      <td>894</td>\n",
       "      <td>0</td>\n",
       "      <td>1</td>\n",
       "      <td>2</td>\n",
       "      <td>5</td>\n",
       "    </tr>\n",
       "    <tr>\n",
       "      <th>93</th>\n",
       "      <td>13360</td>\n",
       "      <td>1921</td>\n",
       "      <td>964</td>\n",
       "      <td>0</td>\n",
       "      <td>1</td>\n",
       "      <td>2</td>\n",
       "      <td>5</td>\n",
       "    </tr>\n",
       "    <tr>\n",
       "      <th>818</th>\n",
       "      <td>13265</td>\n",
       "      <td>2002</td>\n",
       "      <td>1689</td>\n",
       "      <td>0</td>\n",
       "      <td>2</td>\n",
       "      <td>3</td>\n",
       "      <td>7</td>\n",
       "    </tr>\n",
       "    <tr>\n",
       "      <th>303</th>\n",
       "      <td>13704</td>\n",
       "      <td>2001</td>\n",
       "      <td>1541</td>\n",
       "      <td>0</td>\n",
       "      <td>2</td>\n",
       "      <td>3</td>\n",
       "      <td>6</td>\n",
       "    </tr>\n",
       "  </tbody>\n",
       "</table>\n",
       "</div>"
      ],
      "text/plain": [
       "     LotArea  YearBuilt  1stFlrSF  2ndFlrSF  FullBath  BedroomAbvGr  \\\n",
       "Id                                                                    \n",
       "619    11694       2007      1828         0         2             3   \n",
       "871     6600       1962       894         0         1             2   \n",
       "93     13360       1921       964         0         1             2   \n",
       "818    13265       2002      1689         0         2             3   \n",
       "303    13704       2001      1541         0         2             3   \n",
       "\n",
       "     TotRmsAbvGrd  \n",
       "Id                 \n",
       "619             9  \n",
       "871             5  \n",
       "93              5  \n",
       "818             7  \n",
       "303             6  "
      ]
     },
     "execution_count": 3,
     "metadata": {},
     "output_type": "execute_result"
    }
   ],
   "source": [
    "X_train.head()"
   ]
  },
  {
   "cell_type": "markdown",
   "id": "3282775e",
   "metadata": {
    "papermill": {
     "duration": 0.005335,
     "end_time": "2022-12-12T05:03:00.596578",
     "exception": false,
     "start_time": "2022-12-12T05:03:00.591243",
     "status": "completed"
    },
    "tags": []
   },
   "source": [
    "The next code cell defines five different random forest models.  Run this code cell without changes.  (_To review **random forests**, look [here](https://www.kaggle.com/dansbecker/random-forests)._)"
   ]
  },
  {
   "cell_type": "code",
   "execution_count": 4,
   "id": "36308d33",
   "metadata": {
    "execution": {
     "iopub.execute_input": "2022-12-12T05:03:00.610548Z",
     "iopub.status.busy": "2022-12-12T05:03:00.610018Z",
     "iopub.status.idle": "2022-12-12T05:03:00.617869Z",
     "shell.execute_reply": "2022-12-12T05:03:00.616541Z"
    },
    "papermill": {
     "duration": 0.01835,
     "end_time": "2022-12-12T05:03:00.620410",
     "exception": false,
     "start_time": "2022-12-12T05:03:00.602060",
     "status": "completed"
    },
    "tags": []
   },
   "outputs": [],
   "source": [
    "from sklearn.ensemble import RandomForestRegressor\n",
    "\n",
    "# Define the models\n",
    "model_1 = RandomForestRegressor(n_estimators=50, random_state=0)\n",
    "model_2 = RandomForestRegressor(n_estimators=100, random_state=0)\n",
    "model_3 = RandomForestRegressor(n_estimators=100, criterion='absolute_error', random_state=0)\n",
    "model_4 = RandomForestRegressor(n_estimators=200, min_samples_split=20, random_state=0)\n",
    "model_5 = RandomForestRegressor(n_estimators=100, max_depth=7, random_state=0)\n",
    "\n",
    "models = [model_1, model_2, model_3, model_4, model_5]"
   ]
  },
  {
   "cell_type": "markdown",
   "id": "d42b1499",
   "metadata": {
    "papermill": {
     "duration": 0.007195,
     "end_time": "2022-12-12T05:03:00.633244",
     "exception": false,
     "start_time": "2022-12-12T05:03:00.626049",
     "status": "completed"
    },
    "tags": []
   },
   "source": [
    "To select the best model out of the five, we define a function `score_model()` below.  This function returns the mean absolute error (MAE) from the validation set.  Recall that the best model will obtain the lowest MAE.  (_To review **mean absolute error**, look [here](https://www.kaggle.com/dansbecker/model-validation).)_\n",
    "\n",
    "Run the code cell without changes."
   ]
  },
  {
   "cell_type": "code",
   "execution_count": 5,
   "id": "22ded6df",
   "metadata": {
    "execution": {
     "iopub.execute_input": "2022-12-12T05:03:00.646963Z",
     "iopub.status.busy": "2022-12-12T05:03:00.646052Z",
     "iopub.status.idle": "2022-12-12T05:03:05.488656Z",
     "shell.execute_reply": "2022-12-12T05:03:05.486826Z"
    },
    "papermill": {
     "duration": 4.852538,
     "end_time": "2022-12-12T05:03:05.491307",
     "exception": false,
     "start_time": "2022-12-12T05:03:00.638769",
     "status": "completed"
    },
    "tags": []
   },
   "outputs": [
    {
     "name": "stdout",
     "output_type": "stream",
     "text": [
      "Model 1 MAE: 24015\n",
      "Model 2 MAE: 23740\n",
      "Model 3 MAE: 23528\n",
      "Model 4 MAE: 23996\n",
      "Model 5 MAE: 23706\n"
     ]
    }
   ],
   "source": [
    "from sklearn.metrics import mean_absolute_error\n",
    "\n",
    "# Function for comparing different models\n",
    "def score_model(model, X_t=X_train, X_v=X_valid, y_t=y_train, y_v=y_valid):\n",
    "    model.fit(X_t, y_t)\n",
    "    preds = model.predict(X_v)\n",
    "    return mean_absolute_error(y_v, preds)\n",
    "\n",
    "for i in range(0, len(models)):\n",
    "    mae = score_model(models[i])\n",
    "    print(\"Model %d MAE: %d\" % (i+1, mae))"
   ]
  },
  {
   "cell_type": "markdown",
   "id": "37167422",
   "metadata": {
    "papermill": {
     "duration": 0.0053,
     "end_time": "2022-12-12T05:03:05.502401",
     "exception": false,
     "start_time": "2022-12-12T05:03:05.497101",
     "status": "completed"
    },
    "tags": []
   },
   "source": [
    "# Step 1: Evaluate several models\n",
    "\n",
    "Use the above results to fill in the line below.  Which model is the best model?  Your answer should be one of `model_1`, `model_2`, `model_3`, `model_4`, or `model_5`."
   ]
  },
  {
   "cell_type": "code",
   "execution_count": 6,
   "id": "d92ca3de",
   "metadata": {
    "execution": {
     "iopub.execute_input": "2022-12-12T05:03:05.515415Z",
     "iopub.status.busy": "2022-12-12T05:03:05.514994Z",
     "iopub.status.idle": "2022-12-12T05:03:05.525842Z",
     "shell.execute_reply": "2022-12-12T05:03:05.524541Z"
    },
    "papermill": {
     "duration": 0.02049,
     "end_time": "2022-12-12T05:03:05.528402",
     "exception": false,
     "start_time": "2022-12-12T05:03:05.507912",
     "status": "completed"
    },
    "tags": []
   },
   "outputs": [
    {
     "data": {
      "application/javascript": [
       "parent.postMessage({\"jupyterEvent\": \"custom.exercise_interaction\", \"data\": {\"outcomeType\": 1, \"valueTowardsCompletion\": 0.5, \"interactionType\": 1, \"questionType\": 2, \"questionId\": \"1_BestModel\", \"learnToolsVersion\": \"0.3.4\", \"failureMessage\": \"\", \"exceptionClass\": \"\", \"trace\": \"\"}}, \"*\")"
      ],
      "text/plain": [
       "<IPython.core.display.Javascript object>"
      ]
     },
     "metadata": {},
     "output_type": "display_data"
    },
    {
     "data": {
      "text/markdown": [
       "<span style=\"color:#33cc33\">Correct</span>"
      ],
      "text/plain": [
       "Correct"
      ]
     },
     "metadata": {},
     "output_type": "display_data"
    }
   ],
   "source": [
    "# Fill in the best model\n",
    "best_model = model_3\n",
    "\n",
    "# Check your answer\n",
    "step_1.check()"
   ]
  },
  {
   "cell_type": "code",
   "execution_count": 7,
   "id": "bac1585e",
   "metadata": {
    "execution": {
     "iopub.execute_input": "2022-12-12T05:03:05.541903Z",
     "iopub.status.busy": "2022-12-12T05:03:05.541492Z",
     "iopub.status.idle": "2022-12-12T05:03:05.546959Z",
     "shell.execute_reply": "2022-12-12T05:03:05.545313Z"
    },
    "papermill": {
     "duration": 0.015365,
     "end_time": "2022-12-12T05:03:05.549566",
     "exception": false,
     "start_time": "2022-12-12T05:03:05.534201",
     "status": "completed"
    },
    "tags": []
   },
   "outputs": [],
   "source": [
    "# Lines below will give you a hint or solution code\n",
    "#step_1.hint()\n",
    "#step_1.solution()"
   ]
  },
  {
   "cell_type": "markdown",
   "id": "809c9733",
   "metadata": {
    "papermill": {
     "duration": 0.005546,
     "end_time": "2022-12-12T05:03:05.560959",
     "exception": false,
     "start_time": "2022-12-12T05:03:05.555413",
     "status": "completed"
    },
    "tags": []
   },
   "source": [
    "# Step 2: Generate test predictions\n",
    "\n",
    "Great. You know how to evaluate what makes an accurate model. Now it's time to go through the modeling process and make predictions. In the line below, create a Random Forest model with the variable name `my_model`."
   ]
  },
  {
   "cell_type": "code",
   "execution_count": 8,
   "id": "69f81ea1",
   "metadata": {
    "execution": {
     "iopub.execute_input": "2022-12-12T05:03:05.574979Z",
     "iopub.status.busy": "2022-12-12T05:03:05.574548Z",
     "iopub.status.idle": "2022-12-12T05:03:05.584460Z",
     "shell.execute_reply": "2022-12-12T05:03:05.583310Z"
    },
    "papermill": {
     "duration": 0.019934,
     "end_time": "2022-12-12T05:03:05.586979",
     "exception": false,
     "start_time": "2022-12-12T05:03:05.567045",
     "status": "completed"
    },
    "tags": []
   },
   "outputs": [
    {
     "data": {
      "application/javascript": [
       "parent.postMessage({\"jupyterEvent\": \"custom.exercise_interaction\", \"data\": {\"outcomeType\": 1, \"valueTowardsCompletion\": 0.5, \"interactionType\": 1, \"questionType\": 2, \"questionId\": \"2_Predictions\", \"learnToolsVersion\": \"0.3.4\", \"failureMessage\": \"\", \"exceptionClass\": \"\", \"trace\": \"\"}}, \"*\")"
      ],
      "text/plain": [
       "<IPython.core.display.Javascript object>"
      ]
     },
     "metadata": {},
     "output_type": "display_data"
    },
    {
     "data": {
      "text/markdown": [
       "<span style=\"color:#33cc33\">Correct</span>"
      ],
      "text/plain": [
       "Correct"
      ]
     },
     "metadata": {},
     "output_type": "display_data"
    }
   ],
   "source": [
    "# Define a model\n",
    "my_model = RandomForestRegressor(random_state=0) # Your code here\n",
    "\n",
    "# Check your answer\n",
    "step_2.check()"
   ]
  },
  {
   "cell_type": "code",
   "execution_count": 9,
   "id": "b0485711",
   "metadata": {
    "execution": {
     "iopub.execute_input": "2022-12-12T05:03:05.601237Z",
     "iopub.status.busy": "2022-12-12T05:03:05.600849Z",
     "iopub.status.idle": "2022-12-12T05:03:05.605951Z",
     "shell.execute_reply": "2022-12-12T05:03:05.604704Z"
    },
    "papermill": {
     "duration": 0.014934,
     "end_time": "2022-12-12T05:03:05.608236",
     "exception": false,
     "start_time": "2022-12-12T05:03:05.593302",
     "status": "completed"
    },
    "tags": []
   },
   "outputs": [],
   "source": [
    "# Lines below will give you a hint or solution code\n",
    "#step_2.hint()\n",
    "#step_2.solution()"
   ]
  },
  {
   "cell_type": "markdown",
   "id": "8c019f3d",
   "metadata": {
    "papermill": {
     "duration": 0.00588,
     "end_time": "2022-12-12T05:03:05.620257",
     "exception": false,
     "start_time": "2022-12-12T05:03:05.614377",
     "status": "completed"
    },
    "tags": []
   },
   "source": [
    "Run the next code cell without changes.  The code fits the model to the training and validation data, and then generates test predictions that are saved to a CSV file.  These test predictions can be submitted directly to the competition!"
   ]
  },
  {
   "cell_type": "code",
   "execution_count": 10,
   "id": "127aca1f",
   "metadata": {
    "execution": {
     "iopub.execute_input": "2022-12-12T05:03:05.635917Z",
     "iopub.status.busy": "2022-12-12T05:03:05.634220Z",
     "iopub.status.idle": "2022-12-12T05:03:06.222830Z",
     "shell.execute_reply": "2022-12-12T05:03:06.221411Z"
    },
    "papermill": {
     "duration": 0.59981,
     "end_time": "2022-12-12T05:03:06.226220",
     "exception": false,
     "start_time": "2022-12-12T05:03:05.626410",
     "status": "completed"
    },
    "tags": []
   },
   "outputs": [],
   "source": [
    "# Fit the model to the training data\n",
    "my_model.fit(X, y)\n",
    "\n",
    "# Generate test predictions\n",
    "preds_test = my_model.predict(X_test)\n",
    "\n",
    "# Save predictions in format used for competition scoring\n",
    "output = pd.DataFrame({'Id': X_test.index,\n",
    "                       'SalePrice': preds_test})\n",
    "output.to_csv('submission.csv', index=False)"
   ]
  },
  {
   "cell_type": "markdown",
   "id": "fc06be8c",
   "metadata": {
    "papermill": {
     "duration": 0.007123,
     "end_time": "2022-12-12T05:03:06.240110",
     "exception": false,
     "start_time": "2022-12-12T05:03:06.232987",
     "status": "completed"
    },
    "tags": []
   },
   "source": [
    "# Submit your results\n",
    "\n",
    "Once you have successfully completed Step 2, you're ready to submit your results to the leaderboard!  First, you'll need to join the competition if you haven't already.  So open a new window by clicking on [this link](https://www.kaggle.com/c/home-data-for-ml-course).  Then click on the **Join Competition** button.  _(If you see a \"Submit Predictions\" button instead of a \"Join Competition\" button, you have already joined the competition, and don't need to do so again.)_\n",
    "\n",
    "Next, follow the instructions below:\n",
    "1. Begin by clicking on the **Save Version** button in the top right corner of the window.  This will generate a pop-up window.  \n",
    "2. Ensure that the **Save and Run All** option is selected, and then click on the **Save** button.\n",
    "3. This generates a window in the bottom left corner of the notebook.  After it has finished running, click on the number to the right of the **Save Version** button.  This pulls up a list of versions on the right of the screen.  Click on the ellipsis **(...)** to the right of the most recent version, and select **Open in Viewer**.  This brings you into view mode of the same page. You will need to scroll down to get back to these instructions.\n",
    "4. Click on the **Output** tab on the right of the screen.  Then, click on the file you would like to submit, and click on the **Submit** button to submit your results to the leaderboard.\n",
    "\n",
    "You have now successfully submitted to the competition!\n",
    "\n",
    "If you want to keep working to improve your performance, select the **Edit** button in the top right of the screen. Then you can change your code and repeat the process. There's a lot of room to improve, and you will climb up the leaderboard as you work.\n"
   ]
  },
  {
   "cell_type": "markdown",
   "id": "a1e59e68",
   "metadata": {
    "papermill": {
     "duration": 0.0063,
     "end_time": "2022-12-12T05:03:06.253216",
     "exception": false,
     "start_time": "2022-12-12T05:03:06.246916",
     "status": "completed"
    },
    "tags": []
   },
   "source": [
    "# Keep going\n",
    "\n",
    "You've made your first model. But how can you quickly make it better?\n",
    "\n",
    "Learn how to improve your competition results by incorporating columns with **[missing values](https://www.kaggle.com/alexisbcook/missing-values)**."
   ]
  },
  {
   "cell_type": "markdown",
   "id": "0bd1268d",
   "metadata": {
    "papermill": {
     "duration": 0.006021,
     "end_time": "2022-12-12T05:03:06.265806",
     "exception": false,
     "start_time": "2022-12-12T05:03:06.259785",
     "status": "completed"
    },
    "tags": []
   },
   "source": [
    "---\n",
    "\n",
    "\n",
    "\n",
    "\n",
    "*Have questions or comments? Visit the [course discussion forum](https://www.kaggle.com/learn/intermediate-machine-learning/discussion) to chat with other learners.*"
   ]
  }
 ],
 "metadata": {
  "kernelspec": {
   "display_name": "Python 3",
   "language": "python",
   "name": "python3"
  },
  "language_info": {
   "codemirror_mode": {
    "name": "ipython",
    "version": 3
   },
   "file_extension": ".py",
   "mimetype": "text/x-python",
   "name": "python",
   "nbconvert_exporter": "python",
   "pygments_lexer": "ipython3",
   "version": "3.7.12"
  },
  "papermill": {
   "default_parameters": {},
   "duration": 18.659987,
   "end_time": "2022-12-12T05:03:07.399224",
   "environment_variables": {},
   "exception": null,
   "input_path": "__notebook__.ipynb",
   "output_path": "__notebook__.ipynb",
   "parameters": {},
   "start_time": "2022-12-12T05:02:48.739237",
   "version": "2.3.4"
  }
 },
 "nbformat": 4,
 "nbformat_minor": 5
}
