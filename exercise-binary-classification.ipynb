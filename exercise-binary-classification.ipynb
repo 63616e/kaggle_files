{
 "cells": [
  {
   "cell_type": "markdown",
   "id": "2e9dcab1",
   "metadata": {
    "papermill": {
     "duration": 0.004402,
     "end_time": "2022-12-18T05:45:51.425930",
     "exception": false,
     "start_time": "2022-12-18T05:45:51.421528",
     "status": "completed"
    },
    "tags": []
   },
   "source": [
    "# Introduction #\n",
    "\n",
    "In this exercise, you'll build a model to predict hotel cancellations with a binary classifier."
   ]
  },
  {
   "cell_type": "code",
   "execution_count": 1,
   "id": "247f3ce2",
   "metadata": {
    "execution": {
     "iopub.execute_input": "2022-12-18T05:45:51.434415Z",
     "iopub.status.busy": "2022-12-18T05:45:51.433986Z",
     "iopub.status.idle": "2022-12-18T05:45:51.467645Z",
     "shell.execute_reply": "2022-12-18T05:45:51.466780Z"
    },
    "lines_to_next_cell": 0,
    "papermill": {
     "duration": 0.04035,
     "end_time": "2022-12-18T05:45:51.469886",
     "exception": false,
     "start_time": "2022-12-18T05:45:51.429536",
     "status": "completed"
    },
    "tags": []
   },
   "outputs": [],
   "source": [
    "# Setup plotting\n",
    "import matplotlib.pyplot as plt\n",
    "plt.style.use('seaborn-whitegrid')\n",
    "# Set Matplotlib defaults\n",
    "plt.rc('figure', autolayout=True)\n",
    "plt.rc('axes', labelweight='bold', labelsize='large',\n",
    "       titleweight='bold', titlesize=18, titlepad=10)\n",
    "plt.rc('animation', html='html5')\n",
    "\n",
    "# Setup feedback system\n",
    "from learntools.core import binder\n",
    "binder.bind(globals())\n",
    "from learntools.deep_learning_intro.ex6 import *"
   ]
  },
  {
   "cell_type": "markdown",
   "id": "6a6ab40e",
   "metadata": {
    "papermill": {
     "duration": 0.003078,
     "end_time": "2022-12-18T05:45:51.476156",
     "exception": false,
     "start_time": "2022-12-18T05:45:51.473078",
     "status": "completed"
    },
    "tags": []
   },
   "source": [
    "First, load the *Hotel Cancellations* dataset."
   ]
  },
  {
   "cell_type": "code",
   "execution_count": 2,
   "id": "1e7f7a57",
   "metadata": {
    "execution": {
     "iopub.execute_input": "2022-12-18T05:45:51.483905Z",
     "iopub.status.busy": "2022-12-18T05:45:51.483621Z",
     "iopub.status.idle": "2022-12-18T05:45:53.686984Z",
     "shell.execute_reply": "2022-12-18T05:45:53.685942Z"
    },
    "lines_to_next_cell": 2,
    "papermill": {
     "duration": 2.209979,
     "end_time": "2022-12-18T05:45:53.689344",
     "exception": false,
     "start_time": "2022-12-18T05:45:51.479365",
     "status": "completed"
    },
    "tags": []
   },
   "outputs": [],
   "source": [
    "import pandas as pd\n",
    "\n",
    "from sklearn.model_selection import train_test_split\n",
    "from sklearn.preprocessing import StandardScaler, OneHotEncoder\n",
    "from sklearn.impute import SimpleImputer\n",
    "from sklearn.pipeline import make_pipeline\n",
    "from sklearn.compose import make_column_transformer\n",
    "\n",
    "hotel = pd.read_csv('../input/dl-course-data/hotel.csv')\n",
    "\n",
    "X = hotel.copy()\n",
    "y = X.pop('is_canceled')\n",
    "\n",
    "X['arrival_date_month'] = \\\n",
    "    X['arrival_date_month'].map(\n",
    "        {'January':1, 'February': 2, 'March':3,\n",
    "         'April':4, 'May':5, 'June':6, 'July':7,\n",
    "         'August':8, 'September':9, 'October':10,\n",
    "         'November':11, 'December':12}\n",
    "    )\n",
    "\n",
    "features_num = [\n",
    "    \"lead_time\", \"arrival_date_week_number\",\n",
    "    \"arrival_date_day_of_month\", \"stays_in_weekend_nights\",\n",
    "    \"stays_in_week_nights\", \"adults\", \"children\", \"babies\",\n",
    "    \"is_repeated_guest\", \"previous_cancellations\",\n",
    "    \"previous_bookings_not_canceled\", \"required_car_parking_spaces\",\n",
    "    \"total_of_special_requests\", \"adr\",\n",
    "]\n",
    "features_cat = [\n",
    "    \"hotel\", \"arrival_date_month\", \"meal\",\n",
    "    \"market_segment\", \"distribution_channel\",\n",
    "    \"reserved_room_type\", \"deposit_type\", \"customer_type\",\n",
    "]\n",
    "\n",
    "transformer_num = make_pipeline(\n",
    "    SimpleImputer(strategy=\"constant\"), # there are a few missing values\n",
    "    StandardScaler(),\n",
    ")\n",
    "transformer_cat = make_pipeline(\n",
    "    SimpleImputer(strategy=\"constant\", fill_value=\"NA\"),\n",
    "    OneHotEncoder(handle_unknown='ignore'),\n",
    ")\n",
    "\n",
    "preprocessor = make_column_transformer(\n",
    "    (transformer_num, features_num),\n",
    "    (transformer_cat, features_cat),\n",
    ")\n",
    "\n",
    "# stratify - make sure classes are evenlly represented across splits\n",
    "X_train, X_valid, y_train, y_valid = \\\n",
    "    train_test_split(X, y, stratify=y, train_size=0.75)\n",
    "\n",
    "X_train = preprocessor.fit_transform(X_train)\n",
    "X_valid = preprocessor.transform(X_valid)\n",
    "\n",
    "input_shape = [X_train.shape[1]]"
   ]
  },
  {
   "cell_type": "markdown",
   "id": "7ae63617",
   "metadata": {
    "papermill": {
     "duration": 0.002977,
     "end_time": "2022-12-18T05:45:53.695727",
     "exception": false,
     "start_time": "2022-12-18T05:45:53.692750",
     "status": "completed"
    },
    "tags": []
   },
   "source": [
    "# 1) Define Model #\n",
    "\n",
    "The model we'll use this time will have both batch normalization and dropout layers. To ease reading we've broken the diagram into blocks, but you can define it layer by layer as usual.\n",
    "\n",
    "Define a model with an architecture given by this diagram:\n",
    "\n",
    "<figure style=\"padding: 1em;\">\n",
    "<img src=\"https://i.imgur.com/V04o59Z.png\" width=\"400\" alt=\"Diagram of network architecture: BatchNorm, Dense, BatchNorm, Dropout, Dense, BatchNorm, Dropout, Dense.\">\n",
    "<figcaption style=\"textalign: center; font-style: italic\"><center>Diagram of a binary classifier.</center></figcaption>\n",
    "</figure>\n"
   ]
  },
  {
   "cell_type": "code",
   "execution_count": 3,
   "id": "2ab59847",
   "metadata": {
    "execution": {
     "iopub.execute_input": "2022-12-18T05:45:53.703196Z",
     "iopub.status.busy": "2022-12-18T05:45:53.702900Z",
     "iopub.status.idle": "2022-12-18T05:46:01.619906Z",
     "shell.execute_reply": "2022-12-18T05:46:01.618894Z"
    },
    "lines_to_next_cell": 2,
    "papermill": {
     "duration": 7.923241,
     "end_time": "2022-12-18T05:46:01.621988",
     "exception": false,
     "start_time": "2022-12-18T05:45:53.698747",
     "status": "completed"
    },
    "tags": []
   },
   "outputs": [
    {
     "name": "stderr",
     "output_type": "stream",
     "text": [
      "2022-12-18 05:45:58.811266: I tensorflow/stream_executor/cuda/cuda_gpu_executor.cc:937] successful NUMA node read from SysFS had negative value (-1), but there must be at least one NUMA node, so returning NUMA node zero\n",
      "2022-12-18 05:45:58.910418: I tensorflow/stream_executor/cuda/cuda_gpu_executor.cc:937] successful NUMA node read from SysFS had negative value (-1), but there must be at least one NUMA node, so returning NUMA node zero\n",
      "2022-12-18 05:45:58.911170: I tensorflow/stream_executor/cuda/cuda_gpu_executor.cc:937] successful NUMA node read from SysFS had negative value (-1), but there must be at least one NUMA node, so returning NUMA node zero\n",
      "2022-12-18 05:45:58.912887: I tensorflow/core/platform/cpu_feature_guard.cc:142] This TensorFlow binary is optimized with oneAPI Deep Neural Network Library (oneDNN) to use the following CPU instructions in performance-critical operations:  AVX2 AVX512F FMA\n",
      "To enable them in other operations, rebuild TensorFlow with the appropriate compiler flags.\n",
      "2022-12-18 05:45:58.915558: I tensorflow/stream_executor/cuda/cuda_gpu_executor.cc:937] successful NUMA node read from SysFS had negative value (-1), but there must be at least one NUMA node, so returning NUMA node zero\n",
      "2022-12-18 05:45:58.916259: I tensorflow/stream_executor/cuda/cuda_gpu_executor.cc:937] successful NUMA node read from SysFS had negative value (-1), but there must be at least one NUMA node, so returning NUMA node zero\n",
      "2022-12-18 05:45:58.916974: I tensorflow/stream_executor/cuda/cuda_gpu_executor.cc:937] successful NUMA node read from SysFS had negative value (-1), but there must be at least one NUMA node, so returning NUMA node zero\n",
      "2022-12-18 05:46:01.175037: I tensorflow/stream_executor/cuda/cuda_gpu_executor.cc:937] successful NUMA node read from SysFS had negative value (-1), but there must be at least one NUMA node, so returning NUMA node zero\n",
      "2022-12-18 05:46:01.175936: I tensorflow/stream_executor/cuda/cuda_gpu_executor.cc:937] successful NUMA node read from SysFS had negative value (-1), but there must be at least one NUMA node, so returning NUMA node zero\n",
      "2022-12-18 05:46:01.176612: I tensorflow/stream_executor/cuda/cuda_gpu_executor.cc:937] successful NUMA node read from SysFS had negative value (-1), but there must be at least one NUMA node, so returning NUMA node zero\n",
      "2022-12-18 05:46:01.177187: I tensorflow/core/common_runtime/gpu/gpu_device.cc:1510] Created device /job:localhost/replica:0/task:0/device:GPU:0 with 15401 MB memory:  -> device: 0, name: Tesla P100-PCIE-16GB, pci bus id: 0000:00:04.0, compute capability: 6.0\n"
     ]
    },
    {
     "data": {
      "application/javascript": [
       "parent.postMessage({\"jupyterEvent\": \"custom.exercise_interaction\", \"data\": {\"outcomeType\": 1, \"valueTowardsCompletion\": 0.3333333333333333, \"interactionType\": 1, \"questionType\": 2, \"questionId\": \"1_Q1\", \"learnToolsVersion\": \"0.3.4\", \"failureMessage\": \"\", \"exceptionClass\": \"\", \"trace\": \"\"}}, \"*\")"
      ],
      "text/plain": [
       "<IPython.core.display.Javascript object>"
      ]
     },
     "metadata": {},
     "output_type": "display_data"
    },
    {
     "data": {
      "text/markdown": [
       "<span style=\"color:#33cc33\">Correct</span>"
      ],
      "text/plain": [
       "Correct"
      ]
     },
     "metadata": {},
     "output_type": "display_data"
    }
   ],
   "source": [
    "from tensorflow import keras\n",
    "from tensorflow.keras import layers\n",
    "\n",
    "# YOUR CODE HERE: define the model given in the diagram\n",
    "model = keras.Sequential([\n",
    "    layers.BatchNormalization(input_shape=input_shape),\n",
    "    layers.Dense(256, activation='relu'),    \n",
    "    layers.BatchNormalization(),\n",
    "    layers.Dropout(rate=0.3),\n",
    "    layers.Dense(256, activation='relu'),    \n",
    "    layers.BatchNormalization(),\n",
    "    layers.Dropout(rate=0.3),\n",
    "    layers.Dense(1, activation='sigmoid'),\n",
    "])\n",
    "\n",
    "# Check your answer\n",
    "q_1.check()"
   ]
  },
  {
   "cell_type": "markdown",
   "id": "229d2a92",
   "metadata": {
    "papermill": {
     "duration": 0.003269,
     "end_time": "2022-12-18T05:46:01.628884",
     "exception": false,
     "start_time": "2022-12-18T05:46:01.625615",
     "status": "completed"
    },
    "tags": []
   },
   "source": [
    "# 2) Add Optimizer, Loss, and Metric #\n",
    "\n",
    "Now compile the model with the Adam optimizer and binary versions of the cross-entropy loss and accuracy metric."
   ]
  },
  {
   "cell_type": "code",
   "execution_count": 4,
   "id": "eb149a9a",
   "metadata": {
    "execution": {
     "iopub.execute_input": "2022-12-18T05:46:01.637115Z",
     "iopub.status.busy": "2022-12-18T05:46:01.636814Z",
     "iopub.status.idle": "2022-12-18T05:46:01.653446Z",
     "shell.execute_reply": "2022-12-18T05:46:01.652530Z"
    },
    "lines_to_next_cell": 0,
    "papermill": {
     "duration": 0.02316,
     "end_time": "2022-12-18T05:46:01.655485",
     "exception": false,
     "start_time": "2022-12-18T05:46:01.632325",
     "status": "completed"
    },
    "tags": []
   },
   "outputs": [
    {
     "data": {
      "application/javascript": [
       "parent.postMessage({\"jupyterEvent\": \"custom.exercise_interaction\", \"data\": {\"outcomeType\": 1, \"valueTowardsCompletion\": 0.3333333333333333, \"interactionType\": 1, \"questionType\": 2, \"questionId\": \"2_Q2\", \"learnToolsVersion\": \"0.3.4\", \"failureMessage\": \"\", \"exceptionClass\": \"\", \"trace\": \"\"}}, \"*\")"
      ],
      "text/plain": [
       "<IPython.core.display.Javascript object>"
      ]
     },
     "metadata": {},
     "output_type": "display_data"
    },
    {
     "data": {
      "text/markdown": [
       "<span style=\"color:#33cc33\">Correct</span>"
      ],
      "text/plain": [
       "Correct"
      ]
     },
     "metadata": {},
     "output_type": "display_data"
    }
   ],
   "source": [
    "# YOUR CODE HERE\n",
    "model.compile(optimizer='adam',loss='binary_crossentropy',\n",
    "    metrics=['binary_accuracy'],)\n",
    "\n",
    "# Check your answer\n",
    "q_2.check()"
   ]
  },
  {
   "cell_type": "code",
   "execution_count": 5,
   "id": "e91aa885",
   "metadata": {
    "execution": {
     "iopub.execute_input": "2022-12-18T05:46:01.663825Z",
     "iopub.status.busy": "2022-12-18T05:46:01.663565Z",
     "iopub.status.idle": "2022-12-18T05:46:01.667223Z",
     "shell.execute_reply": "2022-12-18T05:46:01.666236Z"
    },
    "lines_to_next_cell": 0,
    "papermill": {
     "duration": 0.010132,
     "end_time": "2022-12-18T05:46:01.669221",
     "exception": false,
     "start_time": "2022-12-18T05:46:01.659089",
     "status": "completed"
    },
    "tags": []
   },
   "outputs": [],
   "source": [
    "# Lines below will give you a hint or solution code\n",
    "#q_2.hint()\n",
    "#q_2.solution()"
   ]
  },
  {
   "cell_type": "markdown",
   "id": "c2cb1256",
   "metadata": {
    "papermill": {
     "duration": 0.003455,
     "end_time": "2022-12-18T05:46:01.676225",
     "exception": false,
     "start_time": "2022-12-18T05:46:01.672770",
     "status": "completed"
    },
    "tags": []
   },
   "source": [
    "Finally, run this cell to train the model and view the learning curves. It may run for around 60 to 70 epochs, which could take a minute or two."
   ]
  },
  {
   "cell_type": "code",
   "execution_count": 6,
   "id": "0bd5b573",
   "metadata": {
    "execution": {
     "iopub.execute_input": "2022-12-18T05:46:01.684617Z",
     "iopub.status.busy": "2022-12-18T05:46:01.684342Z",
     "iopub.status.idle": "2022-12-18T05:46:44.202258Z",
     "shell.execute_reply": "2022-12-18T05:46:44.201278Z"
    },
    "papermill": {
     "duration": 42.524509,
     "end_time": "2022-12-18T05:46:44.204287",
     "exception": false,
     "start_time": "2022-12-18T05:46:01.679778",
     "status": "completed"
    },
    "tags": []
   },
   "outputs": [
    {
     "name": "stderr",
     "output_type": "stream",
     "text": [
      "2022-12-18 05:46:01.804425: I tensorflow/compiler/mlir/mlir_graph_optimization_pass.cc:185] None of the MLIR Optimization Passes are enabled (registered 2)\n"
     ]
    },
    {
     "name": "stdout",
     "output_type": "stream",
     "text": [
      "Epoch 1/200\n",
      "175/175 [==============================] - 3s 7ms/step - loss: 0.4803 - binary_accuracy: 0.7718 - val_loss: 0.4330 - val_binary_accuracy: 0.8013\n",
      "Epoch 2/200\n",
      "175/175 [==============================] - 1s 4ms/step - loss: 0.4224 - binary_accuracy: 0.8014 - val_loss: 0.4014 - val_binary_accuracy: 0.8114\n",
      "Epoch 3/200\n",
      "175/175 [==============================] - 1s 4ms/step - loss: 0.4090 - binary_accuracy: 0.8084 - val_loss: 0.3939 - val_binary_accuracy: 0.8153\n",
      "Epoch 4/200\n",
      "175/175 [==============================] - 1s 5ms/step - loss: 0.4030 - binary_accuracy: 0.8112 - val_loss: 0.3899 - val_binary_accuracy: 0.8167\n",
      "Epoch 5/200\n",
      "175/175 [==============================] - 1s 4ms/step - loss: 0.3955 - binary_accuracy: 0.8153 - val_loss: 0.3869 - val_binary_accuracy: 0.8204\n",
      "Epoch 6/200\n",
      "175/175 [==============================] - 1s 4ms/step - loss: 0.3936 - binary_accuracy: 0.8165 - val_loss: 0.3850 - val_binary_accuracy: 0.8227\n",
      "Epoch 7/200\n",
      "175/175 [==============================] - 1s 5ms/step - loss: 0.3886 - binary_accuracy: 0.8192 - val_loss: 0.3790 - val_binary_accuracy: 0.8224\n",
      "Epoch 8/200\n",
      "175/175 [==============================] - 1s 4ms/step - loss: 0.3864 - binary_accuracy: 0.8201 - val_loss: 0.3772 - val_binary_accuracy: 0.8266\n",
      "Epoch 9/200\n",
      "175/175 [==============================] - 1s 5ms/step - loss: 0.3816 - binary_accuracy: 0.8232 - val_loss: 0.3772 - val_binary_accuracy: 0.8270\n",
      "Epoch 10/200\n",
      "175/175 [==============================] - 1s 4ms/step - loss: 0.3785 - binary_accuracy: 0.8232 - val_loss: 0.3765 - val_binary_accuracy: 0.8278\n",
      "Epoch 11/200\n",
      "175/175 [==============================] - 1s 4ms/step - loss: 0.3764 - binary_accuracy: 0.8245 - val_loss: 0.3740 - val_binary_accuracy: 0.8300\n",
      "Epoch 12/200\n",
      "175/175 [==============================] - 1s 5ms/step - loss: 0.3736 - binary_accuracy: 0.8254 - val_loss: 0.3713 - val_binary_accuracy: 0.8313\n",
      "Epoch 13/200\n",
      "175/175 [==============================] - 1s 4ms/step - loss: 0.3725 - binary_accuracy: 0.8275 - val_loss: 0.3684 - val_binary_accuracy: 0.8329\n",
      "Epoch 14/200\n",
      "175/175 [==============================] - 1s 5ms/step - loss: 0.3673 - binary_accuracy: 0.8299 - val_loss: 0.3697 - val_binary_accuracy: 0.8315\n",
      "Epoch 15/200\n",
      "175/175 [==============================] - 1s 5ms/step - loss: 0.3677 - binary_accuracy: 0.8299 - val_loss: 0.3658 - val_binary_accuracy: 0.8332\n",
      "Epoch 16/200\n",
      "175/175 [==============================] - 1s 4ms/step - loss: 0.3658 - binary_accuracy: 0.8303 - val_loss: 0.3647 - val_binary_accuracy: 0.8331\n",
      "Epoch 17/200\n",
      "175/175 [==============================] - 1s 4ms/step - loss: 0.3631 - binary_accuracy: 0.8323 - val_loss: 0.3628 - val_binary_accuracy: 0.8323\n",
      "Epoch 18/200\n",
      "175/175 [==============================] - 1s 4ms/step - loss: 0.3624 - binary_accuracy: 0.8327 - val_loss: 0.3639 - val_binary_accuracy: 0.8334\n",
      "Epoch 19/200\n",
      "175/175 [==============================] - 1s 4ms/step - loss: 0.3607 - binary_accuracy: 0.8328 - val_loss: 0.3629 - val_binary_accuracy: 0.8338\n",
      "Epoch 20/200\n",
      "175/175 [==============================] - 1s 5ms/step - loss: 0.3593 - binary_accuracy: 0.8335 - val_loss: 0.3618 - val_binary_accuracy: 0.8354\n",
      "Epoch 21/200\n",
      "175/175 [==============================] - 1s 6ms/step - loss: 0.3584 - binary_accuracy: 0.8341 - val_loss: 0.3597 - val_binary_accuracy: 0.8357\n",
      "Epoch 22/200\n",
      "175/175 [==============================] - 1s 6ms/step - loss: 0.3557 - binary_accuracy: 0.8362 - val_loss: 0.3586 - val_binary_accuracy: 0.8356\n",
      "Epoch 23/200\n",
      "175/175 [==============================] - 1s 4ms/step - loss: 0.3541 - binary_accuracy: 0.8356 - val_loss: 0.3584 - val_binary_accuracy: 0.8355\n",
      "Epoch 24/200\n",
      "175/175 [==============================] - 1s 4ms/step - loss: 0.3542 - binary_accuracy: 0.8355 - val_loss: 0.3598 - val_binary_accuracy: 0.8329\n",
      "Epoch 25/200\n",
      "175/175 [==============================] - 1s 5ms/step - loss: 0.3521 - binary_accuracy: 0.8379 - val_loss: 0.3566 - val_binary_accuracy: 0.8367\n",
      "Epoch 26/200\n",
      "175/175 [==============================] - 1s 5ms/step - loss: 0.3509 - binary_accuracy: 0.8370 - val_loss: 0.3590 - val_binary_accuracy: 0.8355\n",
      "Epoch 27/200\n",
      "175/175 [==============================] - 1s 5ms/step - loss: 0.3509 - binary_accuracy: 0.8371 - val_loss: 0.3555 - val_binary_accuracy: 0.8381\n",
      "Epoch 28/200\n",
      "175/175 [==============================] - 1s 5ms/step - loss: 0.3490 - binary_accuracy: 0.8389 - val_loss: 0.3567 - val_binary_accuracy: 0.8381\n",
      "Epoch 29/200\n",
      "175/175 [==============================] - 1s 4ms/step - loss: 0.3484 - binary_accuracy: 0.8386 - val_loss: 0.3570 - val_binary_accuracy: 0.8366\n",
      "Epoch 30/200\n",
      "175/175 [==============================] - 1s 4ms/step - loss: 0.3478 - binary_accuracy: 0.8388 - val_loss: 0.3561 - val_binary_accuracy: 0.8381\n",
      "Epoch 31/200\n",
      "175/175 [==============================] - 1s 4ms/step - loss: 0.3455 - binary_accuracy: 0.8401 - val_loss: 0.3542 - val_binary_accuracy: 0.8378\n",
      "Epoch 32/200\n",
      "175/175 [==============================] - 1s 4ms/step - loss: 0.3459 - binary_accuracy: 0.8403 - val_loss: 0.3541 - val_binary_accuracy: 0.8388\n",
      "Epoch 33/200\n",
      "175/175 [==============================] - 1s 5ms/step - loss: 0.3437 - binary_accuracy: 0.8413 - val_loss: 0.3530 - val_binary_accuracy: 0.8410\n",
      "Epoch 34/200\n",
      "175/175 [==============================] - 1s 4ms/step - loss: 0.3440 - binary_accuracy: 0.8411 - val_loss: 0.3537 - val_binary_accuracy: 0.8390\n",
      "Epoch 35/200\n",
      "175/175 [==============================] - 1s 5ms/step - loss: 0.3426 - binary_accuracy: 0.8420 - val_loss: 0.3528 - val_binary_accuracy: 0.8396\n",
      "Epoch 36/200\n",
      "175/175 [==============================] - 1s 4ms/step - loss: 0.3416 - binary_accuracy: 0.8422 - val_loss: 0.3520 - val_binary_accuracy: 0.8390\n",
      "Epoch 37/200\n",
      "175/175 [==============================] - 1s 4ms/step - loss: 0.3406 - binary_accuracy: 0.8417 - val_loss: 0.3524 - val_binary_accuracy: 0.8397\n",
      "Epoch 38/200\n",
      "175/175 [==============================] - 1s 4ms/step - loss: 0.3412 - binary_accuracy: 0.8427 - val_loss: 0.3534 - val_binary_accuracy: 0.8398\n"
     ]
    },
    {
     "data": {
      "text/plain": [
       "<AxesSubplot:title={'center':'Accuracy'}>"
      ]
     },
     "execution_count": 6,
     "metadata": {},
     "output_type": "execute_result"
    },
    {
     "data": {
      "image/png": "[encoded data removed]",
      "text/plain": [
       "<Figure size 432x288 with 1 Axes>"
      ]
     },
     "metadata": {},
     "output_type": "display_data"
    },
    {
     "data": {
      "image/png": "[encoded data removed]",
      "text/plain": [
       "<Figure size 432x288 with 1 Axes>"
      ]
     },
     "metadata": {},
     "output_type": "display_data"
    }
   ],
   "source": [
    "early_stopping = keras.callbacks.EarlyStopping(\n",
    "    patience=5,\n",
    "    min_delta=0.001,\n",
    "    restore_best_weights=True,\n",
    ")\n",
    "history = model.fit(\n",
    "    X_train, y_train,\n",
    "    validation_data=(X_valid, y_valid),\n",
    "    batch_size=512,\n",
    "    epochs=200,\n",
    "    callbacks=[early_stopping],\n",
    ")\n",
    "\n",
    "history_df = pd.DataFrame(history.history)\n",
    "history_df.loc[:, ['loss', 'val_loss']].plot(title=\"Cross-entropy\")\n",
    "history_df.loc[:, ['binary_accuracy', 'val_binary_accuracy']].plot(title=\"Accuracy\")"
   ]
  },
  {
   "cell_type": "markdown",
   "id": "2c16f9f2",
   "metadata": {
    "papermill": {
     "duration": 0.032141,
     "end_time": "2022-12-18T05:46:44.269778",
     "exception": false,
     "start_time": "2022-12-18T05:46:44.237637",
     "status": "completed"
    },
    "tags": []
   },
   "source": [
    "# 3) Train and Evaluate #\n",
    "\n",
    "\n",
    "What do you think about the learning curves? Does it look like the model underfit or overfit? Was the cross-entropy loss a good stand-in for accuracy?"
   ]
  },
  {
   "cell_type": "code",
   "execution_count": 7,
   "id": "76c58198",
   "metadata": {
    "execution": {
     "iopub.execute_input": "2022-12-18T05:46:44.335082Z",
     "iopub.status.busy": "2022-12-18T05:46:44.334394Z",
     "iopub.status.idle": "2022-12-18T05:46:44.344565Z",
     "shell.execute_reply": "2022-12-18T05:46:44.343685Z"
    },
    "papermill": {
     "duration": 0.044935,
     "end_time": "2022-12-18T05:46:44.346637",
     "exception": false,
     "start_time": "2022-12-18T05:46:44.301702",
     "status": "completed"
    },
    "tags": []
   },
   "outputs": [
    {
     "data": {
      "application/javascript": [
       "parent.postMessage({\"jupyterEvent\": \"custom.exercise_interaction\", \"data\": {\"outcomeType\": 1, \"valueTowardsCompletion\": 0.3333333333333333, \"interactionType\": 1, \"questionType\": 4, \"questionId\": \"3_Q3\", \"learnToolsVersion\": \"0.3.4\", \"failureMessage\": \"\", \"exceptionClass\": \"\", \"trace\": \"\"}}, \"*\")"
      ],
      "text/plain": [
       "<IPython.core.display.Javascript object>"
      ]
     },
     "metadata": {},
     "output_type": "display_data"
    },
    {
     "data": {
      "text/markdown": [
       "<span style=\"color:#33cc33\">Correct:</span> \n",
       "\n",
       "Though we can see the training loss continuing to fall, the early stopping callback prevented any overfitting. Moreover, the accuracy rose at the same rate as the cross-entropy fell, so it appears that minimizing cross-entropy was a good stand-in. All in all, it looks like this training was a success!"
      ],
      "text/plain": [
       "Correct: \n",
       "\n",
       "Though we can see the training loss continuing to fall, the early stopping callback prevented any overfitting. Moreover, the accuracy rose at the same rate as the cross-entropy fell, so it appears that minimizing cross-entropy was a good stand-in. All in all, it looks like this training was a success!"
      ]
     },
     "metadata": {},
     "output_type": "display_data"
    }
   ],
   "source": [
    "# View the solution (Run this cell to receive credit!)\n",
    "q_3.check()"
   ]
  },
  {
   "cell_type": "markdown",
   "id": "2d018f59",
   "metadata": {
    "papermill": {
     "duration": 0.031973,
     "end_time": "2022-12-18T05:46:44.410450",
     "exception": false,
     "start_time": "2022-12-18T05:46:44.378477",
     "status": "completed"
    },
    "tags": []
   },
   "source": [
    "# Conclusion #\n",
    "\n",
    "Congratulations! You've completed Kaggle's *Introduction to Deep Learning* course!\n",
    "\n",
    "With your new skills you're ready to take on more advanced applications like computer vision and sentiment classification. What would you like to do next?\n",
    "\n",
    "Why not try one of our *Getting Started* competitions?\n",
    "\n",
    "- Classify images with TPUs in [**Petals to the Metal**](https://www.kaggle.com/c/tpu-getting-started)\n",
    "- Create art with GANs in [**I'm Something of a Painter Myself**](https://www.kaggle.com/c/gan-getting-started)\n",
    "- Classify Tweets in [**Real or Not? NLP with Disaster Tweets**](https://www.kaggle.com/c/nlp-getting-started)\n",
    "- Detect contradiction and entailment in [**Contradictory, My Dear Watson**](https://www.kaggle.com/c/contradictory-my-dear-watson)\n",
    "\n",
    "Until next time, Kagglers!"
   ]
  },
  {
   "cell_type": "markdown",
   "id": "40cef5e9",
   "metadata": {
    "papermill": {
     "duration": 0.031526,
     "end_time": "2022-12-18T05:46:44.474188",
     "exception": false,
     "start_time": "2022-12-18T05:46:44.442662",
     "status": "completed"
    },
    "tags": []
   },
   "source": [
    "---\n",
    "\n",
    "\n",
    "\n",
    "\n",
    "*Have questions or comments? Visit the [course discussion forum](https://www.kaggle.com/learn/intro-to-deep-learning/discussion) to chat with other learners.*"
   ]
  }
 ],
 "metadata": {
  "kernelspec": {
   "display_name": "Python 3",
   "language": "python",
   "name": "python3"
  },
  "language_info": {
   "codemirror_mode": {
    "name": "ipython",
    "version": 3
   },
   "file_extension": ".py",
   "mimetype": "text/x-python",
   "name": "python",
   "nbconvert_exporter": "python",
   "pygments_lexer": "ipython3",
   "version": "3.7.12"
  },
  "papermill": {
   "default_parameters": {},
   "duration": 64.298779,
   "end_time": "2022-12-18T05:46:47.587246",
   "environment_variables": {},
   "exception": null,
   "input_path": "__notebook__.ipynb",
   "output_path": "__notebook__.ipynb",
   "parameters": {},
   "start_time": "2022-12-18T05:45:43.288467",
   "version": "2.3.4"
  }
 },
 "nbformat": 4,
 "nbformat_minor": 5
}
